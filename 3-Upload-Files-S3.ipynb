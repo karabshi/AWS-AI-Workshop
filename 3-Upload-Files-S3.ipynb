{
 "cells": [
  {
   "cell_type": "code",
   "execution_count": 2,
   "metadata": {},
   "outputs": [],
   "source": [
    "import json\n",
    "import pandas as pd\n",
    "import boto3\n",
    "from sagemaker import get_execution_role\n",
    "\n",
    "#get IAM ro\n",
    "role = get_execution_role()"
   ]
  },
  {
   "cell_type": "code",
   "execution_count": 7,
   "metadata": {},
   "outputs": [
    {
     "name": "stdout",
     "output_type": "stream",
     "text": [
      "s3://knarig-comprehend-bucket/sagemaker/comprehend/train/\n"
     ]
    }
   ],
   "source": [
    "#upload training set\n",
    "\n",
    "bucket='knarig-comprehend-bucket'\n",
    "data_key = 'sagemaker/comprehend/train/'\n",
    "data_location = 's3://{}/{}'.format(bucket, data_key)\n",
    "s3 = boto3.client('s3')\n",
    "s3.upload_file('train.csv', bucket, data_key+'train_s3.csv')"
   ]
  },
  {
   "cell_type": "code",
   "execution_count": 8,
   "metadata": {},
   "outputs": [],
   "source": [
    "#upload test set\n",
    "\n",
    "bucket='knarig-comprehend-bucket'\n",
    "data_key = 'sagemaker/comprehend/test/'\n",
    "data_location = 's3://{}/{}'.format(bucket, data_key)\n",
    "s3 = boto3.client('s3')\n",
    "s3.upload_file('test.csv', bucket, data_key+'test_s3.csv')"
   ]
  },
  {
   "cell_type": "code",
   "execution_count": 9,
   "metadata": {},
   "outputs": [],
   "source": [
    "#upload truth set\n",
    "\n",
    "bucket='knarig-comprehend-bucket'\n",
    "data_key = 'sagemaker/comprehend/test/'\n",
    "data_location = 's3://{}/{}'.format(bucket, data_key)\n",
    "s3 = boto3.client('s3')\n",
    "s3.upload_file('test_truth.csv', bucket, data_key+'test_truth_s3.csv')"
   ]
  },
  {
   "cell_type": "code",
   "execution_count": null,
   "metadata": {},
   "outputs": [],
   "source": []
  }
 ],
 "metadata": {
  "kernelspec": {
   "display_name": "conda_python3",
   "language": "python",
   "name": "conda_python3"
  },
  "language_info": {
   "codemirror_mode": {
    "name": "ipython",
    "version": 3
   },
   "file_extension": ".py",
   "mimetype": "text/x-python",
   "name": "python",
   "nbconvert_exporter": "python",
   "pygments_lexer": "ipython3",
   "version": "3.6.5"
  }
 },
 "nbformat": 4,
 "nbformat_minor": 2
}
