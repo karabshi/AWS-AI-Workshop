{
 "cells": [
  {
   "cell_type": "code",
   "execution_count": 32,
   "metadata": {},
   "outputs": [],
   "source": [
    "import json\n",
    "import pandas as pd\n",
    "import boto3\n",
    "from sagemaker import get_execution_role\n",
    "import tarfile\n",
    "from pprint import pprint"
   ]
  },
  {
   "cell_type": "code",
   "execution_count": 7,
   "metadata": {},
   "outputs": [],
   "source": [
    "role = get_execution_role()\n",
    "bucket='knarig-comprehend-bucket'\n",
    "data_key = 'sagemaker/comprehend/output/347550782223-CLN-2fbb86de8af99a092e036b6626b568a5/output/output.tar.gz'\n",
    "data_location = 's3://{}/{}'.format(bucket, data_key)\n",
    "\n",
    "s3 = boto3.client('s3')\n",
    "s3.download_file(bucket, data_key, 'output.tar.gz')"
   ]
  },
  {
   "cell_type": "code",
   "execution_count": 33,
   "metadata": {},
   "outputs": [],
   "source": [
    "role = get_execution_role()\n",
    "bucket='knarig-comprehend-bucket'\n",
    "data_key = 'output/347550782223-CLN-31e061a9a4db6756ed48f2f3838e1333/output/output.tar.gz'\n",
    "data_location = 's3://{}/{}'.format(bucket, data_key)\n",
    "\n",
    "s3 = boto3.client('s3')\n",
    "s3.download_file(bucket, data_key, 'output.tar.gz')"
   ]
  },
  {
   "cell_type": "code",
   "execution_count": 34,
   "metadata": {},
   "outputs": [],
   "source": [
    "tar = tarfile.open('output.tar.gz', \"r:gz\")\n",
    "tar.extractall()"
   ]
  },
  {
   "cell_type": "code",
   "execution_count": 35,
   "metadata": {},
   "outputs": [],
   "source": [
    "with open('predictions.jsonl', 'r') as f:\n",
    "    f = f.readlines()"
   ]
  },
  {
   "cell_type": "code",
   "execution_count": 36,
   "metadata": {},
   "outputs": [
    {
     "name": "stdout",
     "output_type": "stream",
     "text": [
      "['{\"File\": \"test_s3.csv\", \"Line\": \"0\", \"Classes\": [{\"Name\": \"business\", '\n",
      " '\"Score\": 0.6823}, {\"Name\": \"entertainment\", \"Score\": 0.1373}, {\"Name\": '\n",
      " '\"sport\", \"Score\": 0.0718}]}\\n',\n",
      " '{\"File\": \"test_s3.csv\", \"Line\": \"1\", \"Classes\": [{\"Name\": \"business\", '\n",
      " '\"Score\": 0.8779}, {\"Name\": \"entertainment\", \"Score\": 0.0441}, {\"Name\": '\n",
      " '\"tech\", \"Score\": 0.0363}]}\\n',\n",
      " '{\"File\": \"test_s3.csv\", \"Line\": \"2\", \"Classes\": [{\"Name\": \"business\", '\n",
      " '\"Score\": 0.864}, {\"Name\": \"politics\", \"Score\": 0.0945}, {\"Name\": \"sport\", '\n",
      " '\"Score\": 0.021}]}\\n',\n",
      " '{\"File\": \"test_s3.csv\", \"Line\": \"3\", \"Classes\": [{\"Name\": \"business\", '\n",
      " '\"Score\": 0.9506}, {\"Name\": \"entertainment\", \"Score\": 0.0195}, {\"Name\": '\n",
      " '\"politics\", \"Score\": 0.0138}]}\\n',\n",
      " '{\"File\": \"test_s3.csv\", \"Line\": \"4\", \"Classes\": [{\"Name\": \"business\", '\n",
      " '\"Score\": 0.9393}, {\"Name\": \"politics\", \"Score\": 0.0304}, {\"Name\": \"tech\", '\n",
      " '\"Score\": 0.0185}]}\\n',\n",
      " '{\"File\": \"test_s3.csv\", \"Line\": \"5\", \"Classes\": [{\"Name\": \"business\", '\n",
      " '\"Score\": 0.9225}, {\"Name\": \"tech\", \"Score\": 0.0252}, {\"Name\": \"politics\", '\n",
      " '\"Score\": 0.0209}]}\\n',\n",
      " '{\"File\": \"test_s3.csv\", \"Line\": \"6\", \"Classes\": [{\"Name\": \"business\", '\n",
      " '\"Score\": 0.9965}, {\"Name\": \"tech\", \"Score\": 0.0015}, {\"Name\": \"politics\", '\n",
      " '\"Score\": 0.0012}]}\\n',\n",
      " '{\"File\": \"test_s3.csv\", \"Line\": \"7\", \"Classes\": [{\"Name\": \"business\", '\n",
      " '\"Score\": 0.8062}, {\"Name\": \"sport\", \"Score\": 0.0704}, {\"Name\": '\n",
      " '\"entertainment\", \"Score\": 0.06}]}\\n',\n",
      " '{\"File\": \"test_s3.csv\", \"Line\": \"8\", \"Classes\": [{\"Name\": \"business\", '\n",
      " '\"Score\": 0.6828}, {\"Name\": \"sport\", \"Score\": 0.1415}, {\"Name\": '\n",
      " '\"entertainment\", \"Score\": 0.0886}]}\\n',\n",
      " '{\"File\": \"test_s3.csv\", \"Line\": \"9\", \"Classes\": [{\"Name\": \"business\", '\n",
      " '\"Score\": 0.9849}, {\"Name\": \"entertainment\", \"Score\": 0.0051}, {\"Name\": '\n",
      " '\"tech\", \"Score\": 0.004}]}\\n',\n",
      " '{\"File\": \"test_s3.csv\", \"Line\": \"10\", \"Classes\": [{\"Name\": \"entertainment\", '\n",
      " '\"Score\": 0.9561}, {\"Name\": \"tech\", \"Score\": 0.0188}, {\"Name\": \"sport\", '\n",
      " '\"Score\": 0.0119}]}\\n',\n",
      " '{\"File\": \"test_s3.csv\", \"Line\": \"11\", \"Classes\": [{\"Name\": \"entertainment\", '\n",
      " '\"Score\": 0.8827}, {\"Name\": \"sport\", \"Score\": 0.0436}, {\"Name\": \"tech\", '\n",
      " '\"Score\": 0.0388}]}\\n',\n",
      " '{\"File\": \"test_s3.csv\", \"Line\": \"12\", \"Classes\": [{\"Name\": \"entertainment\", '\n",
      " '\"Score\": 0.6928}, {\"Name\": \"business\", \"Score\": 0.1954}, {\"Name\": '\n",
      " '\"politics\", \"Score\": 0.0511}]}\\n',\n",
      " '{\"File\": \"test_s3.csv\", \"Line\": \"13\", \"Classes\": [{\"Name\": \"entertainment\", '\n",
      " '\"Score\": 0.9545}, {\"Name\": \"tech\", \"Score\": 0.0148}, {\"Name\": \"business\", '\n",
      " '\"Score\": 0.0142}]}\\n',\n",
      " '{\"File\": \"test_s3.csv\", \"Line\": \"14\", \"Classes\": [{\"Name\": \"entertainment\", '\n",
      " '\"Score\": 0.9485}, {\"Name\": \"tech\", \"Score\": 0.0455}, {\"Name\": \"business\", '\n",
      " '\"Score\": 0.0036}]}\\n',\n",
      " '{\"File\": \"test_s3.csv\", \"Line\": \"15\", \"Classes\": [{\"Name\": \"entertainment\", '\n",
      " '\"Score\": 0.9877}, {\"Name\": \"sport\", \"Score\": 0.0053}, {\"Name\": \"business\", '\n",
      " '\"Score\": 0.0031}]}\\n',\n",
      " '{\"File\": \"test_s3.csv\", \"Line\": \"16\", \"Classes\": [{\"Name\": \"entertainment\", '\n",
      " '\"Score\": 0.9883}, {\"Name\": \"sport\", \"Score\": 0.0056}, {\"Name\": \"politics\", '\n",
      " '\"Score\": 0.0039}]}\\n',\n",
      " '{\"File\": \"test_s3.csv\", \"Line\": \"17\", \"Classes\": [{\"Name\": \"entertainment\", '\n",
      " '\"Score\": 1.0}, {\"Name\": \"sport\", \"Score\": 0.0}, {\"Name\": \"business\", '\n",
      " '\"Score\": 0.0}]}\\n',\n",
      " '{\"File\": \"test_s3.csv\", \"Line\": \"18\", \"Classes\": [{\"Name\": \"entertainment\", '\n",
      " '\"Score\": 0.9747}, {\"Name\": \"sport\", \"Score\": 0.0152}, {\"Name\": \"business\", '\n",
      " '\"Score\": 0.0048}]}\\n',\n",
      " '{\"File\": \"test_s3.csv\", \"Line\": \"19\", \"Classes\": [{\"Name\": \"entertainment\", '\n",
      " '\"Score\": 0.9558}, {\"Name\": \"sport\", \"Score\": 0.0149}, {\"Name\": \"politics\", '\n",
      " '\"Score\": 0.0141}]}\\n',\n",
      " '{\"File\": \"test_s3.csv\", \"Line\": \"20\", \"Classes\": [{\"Name\": \"politics\", '\n",
      " '\"Score\": 0.9999}, {\"Name\": \"business\", \"Score\": 0.0001}, {\"Name\": '\n",
      " '\"entertainment\", \"Score\": 0.0}]}\\n',\n",
      " '{\"File\": \"test_s3.csv\", \"Line\": \"21\", \"Classes\": [{\"Name\": \"politics\", '\n",
      " '\"Score\": 0.9962}, {\"Name\": \"entertainment\", \"Score\": 0.0032}, {\"Name\": '\n",
      " '\"sport\", \"Score\": 0.0003}]}\\n',\n",
      " '{\"File\": \"test_s3.csv\", \"Line\": \"22\", \"Classes\": [{\"Name\": \"politics\", '\n",
      " '\"Score\": 0.9942}, {\"Name\": \"sport\", \"Score\": 0.0021}, {\"Name\": '\n",
      " '\"entertainment\", \"Score\": 0.0021}]}\\n',\n",
      " '{\"File\": \"test_s3.csv\", \"Line\": \"23\", \"Classes\": [{\"Name\": \"politics\", '\n",
      " '\"Score\": 0.9102}, {\"Name\": \"entertainment\", \"Score\": 0.0304}, {\"Name\": '\n",
      " '\"business\", \"Score\": 0.0244}]}\\n',\n",
      " '{\"File\": \"test_s3.csv\", \"Line\": \"24\", \"Classes\": [{\"Name\": \"politics\", '\n",
      " '\"Score\": 0.9999}, {\"Name\": \"tech\", \"Score\": 0.0}, {\"Name\": \"entertainment\", '\n",
      " '\"Score\": 0.0}]}\\n',\n",
      " '{\"File\": \"test_s3.csv\", \"Line\": \"25\", \"Classes\": [{\"Name\": \"politics\", '\n",
      " '\"Score\": 0.9965}, {\"Name\": \"entertainment\", \"Score\": 0.0017}, {\"Name\": '\n",
      " '\"business\", \"Score\": 0.001}]}\\n',\n",
      " '{\"File\": \"test_s3.csv\", \"Line\": \"26\", \"Classes\": [{\"Name\": \"politics\", '\n",
      " '\"Score\": 0.9974}, {\"Name\": \"entertainment\", \"Score\": 0.0012}, {\"Name\": '\n",
      " '\"business\", \"Score\": 0.0008}]}\\n',\n",
      " '{\"File\": \"test_s3.csv\", \"Line\": \"27\", \"Classes\": [{\"Name\": \"politics\", '\n",
      " '\"Score\": 0.8115}, {\"Name\": \"entertainment\", \"Score\": 0.1188}, {\"Name\": '\n",
      " '\"sport\", \"Score\": 0.0393}]}\\n',\n",
      " '{\"File\": \"test_s3.csv\", \"Line\": \"28\", \"Classes\": [{\"Name\": \"politics\", '\n",
      " '\"Score\": 0.9007}, {\"Name\": \"entertainment\", \"Score\": 0.0555}, {\"Name\": '\n",
      " '\"tech\", \"Score\": 0.0214}]}\\n',\n",
      " '{\"File\": \"test_s3.csv\", \"Line\": \"29\", \"Classes\": [{\"Name\": \"politics\", '\n",
      " '\"Score\": 0.9988}, {\"Name\": \"tech\", \"Score\": 0.0005}, {\"Name\": '\n",
      " '\"entertainment\", \"Score\": 0.0003}]}\\n',\n",
      " '{\"File\": \"test_s3.csv\", \"Line\": \"30\", \"Classes\": [{\"Name\": \"sport\", \"Score\": '\n",
      " '0.9649}, {\"Name\": \"entertainment\", \"Score\": 0.0201}, {\"Name\": \"politics\", '\n",
      " '\"Score\": 0.0058}]}\\n',\n",
      " '{\"File\": \"test_s3.csv\", \"Line\": \"31\", \"Classes\": [{\"Name\": \"sport\", \"Score\": '\n",
      " '0.9906}, {\"Name\": \"entertainment\", \"Score\": 0.0039}, {\"Name\": \"business\", '\n",
      " '\"Score\": 0.0022}]}\\n',\n",
      " '{\"File\": \"test_s3.csv\", \"Line\": \"32\", \"Classes\": [{\"Name\": \"sport\", \"Score\": '\n",
      " '0.9961}, {\"Name\": \"entertainment\", \"Score\": 0.0021}, {\"Name\": \"politics\", '\n",
      " '\"Score\": 0.0014}]}\\n',\n",
      " '{\"File\": \"test_s3.csv\", \"Line\": \"33\", \"Classes\": [{\"Name\": \"sport\", \"Score\": '\n",
      " '0.9778}, {\"Name\": \"entertainment\", \"Score\": 0.0086}, {\"Name\": \"politics\", '\n",
      " '\"Score\": 0.0067}]}\\n',\n",
      " '{\"File\": \"test_s3.csv\", \"Line\": \"34\", \"Classes\": [{\"Name\": \"sport\", \"Score\": '\n",
      " '0.9454}, {\"Name\": \"entertainment\", \"Score\": 0.0228}, {\"Name\": \"politics\", '\n",
      " '\"Score\": 0.0185}]}\\n',\n",
      " '{\"File\": \"test_s3.csv\", \"Line\": \"35\", \"Classes\": [{\"Name\": \"sport\", \"Score\": '\n",
      " '0.995}, {\"Name\": \"entertainment\", \"Score\": 0.003}, {\"Name\": \"business\", '\n",
      " '\"Score\": 0.0008}]}\\n',\n",
      " '{\"File\": \"test_s3.csv\", \"Line\": \"36\", \"Classes\": [{\"Name\": \"sport\", \"Score\": '\n",
      " '0.9894}, {\"Name\": \"politics\", \"Score\": 0.0046}, {\"Name\": \"entertainment\", '\n",
      " '\"Score\": 0.0035}]}\\n',\n",
      " '{\"File\": \"test_s3.csv\", \"Line\": \"37\", \"Classes\": [{\"Name\": \"sport\", \"Score\": '\n",
      " '0.9996}, {\"Name\": \"entertainment\", \"Score\": 0.0002}, {\"Name\": \"tech\", '\n",
      " '\"Score\": 0.0001}]}\\n',\n",
      " '{\"File\": \"test_s3.csv\", \"Line\": \"38\", \"Classes\": [{\"Name\": \"sport\", \"Score\": '\n",
      " '0.9892}, {\"Name\": \"tech\", \"Score\": 0.0073}, {\"Name\": \"entertainment\", '\n",
      " '\"Score\": 0.002}]}\\n',\n",
      " '{\"File\": \"test_s3.csv\", \"Line\": \"39\", \"Classes\": [{\"Name\": \"sport\", \"Score\": '\n",
      " '0.9919}, {\"Name\": \"tech\", \"Score\": 0.0022}, {\"Name\": \"politics\", \"Score\": '\n",
      " '0.0021}]}\\n',\n",
      " '{\"File\": \"test_s3.csv\", \"Line\": \"40\", \"Classes\": [{\"Name\": \"tech\", \"Score\": '\n",
      " '1.0}, {\"Name\": \"entertainment\", \"Score\": 0.0}, {\"Name\": \"sport\", \"Score\": '\n",
      " '0.0}]}\\n',\n",
      " '{\"File\": \"test_s3.csv\", \"Line\": \"41\", \"Classes\": [{\"Name\": \"tech\", \"Score\": '\n",
      " '1.0}, {\"Name\": \"entertainment\", \"Score\": 0.0}, {\"Name\": \"business\", \"Score\": '\n",
      " '0.0}]}\\n',\n",
      " '{\"File\": \"test_s3.csv\", \"Line\": \"42\", \"Classes\": [{\"Name\": \"tech\", \"Score\": '\n",
      " '1.0}, {\"Name\": \"business\", \"Score\": 0.0}, {\"Name\": \"entertainment\", \"Score\": '\n",
      " '0.0}]}\\n',\n",
      " '{\"File\": \"test_s3.csv\", \"Line\": \"43\", \"Classes\": [{\"Name\": \"tech\", \"Score\": '\n",
      " '1.0}, {\"Name\": \"politics\", \"Score\": 0.0}, {\"Name\": \"entertainment\", \"Score\": '\n",
      " '0.0}]}\\n',\n",
      " '{\"File\": \"test_s3.csv\", \"Line\": \"44\", \"Classes\": [{\"Name\": \"tech\", \"Score\": '\n",
      " '0.9987}, {\"Name\": \"entertainment\", \"Score\": 0.0006}, {\"Name\": \"sport\", '\n",
      " '\"Score\": 0.0004}]}\\n',\n",
      " '{\"File\": \"test_s3.csv\", \"Line\": \"45\", \"Classes\": [{\"Name\": \"tech\", \"Score\": '\n",
      " '0.9999}, {\"Name\": \"business\", \"Score\": 0.0001}, {\"Name\": \"entertainment\", '\n",
      " '\"Score\": 0.0}]}\\n',\n",
      " '{\"File\": \"test_s3.csv\", \"Line\": \"46\", \"Classes\": [{\"Name\": \"tech\", \"Score\": '\n",
      " '0.999}, {\"Name\": \"sport\", \"Score\": 0.0004}, {\"Name\": \"business\", \"Score\": '\n",
      " '0.0003}]}\\n',\n",
      " '{\"File\": \"test_s3.csv\", \"Line\": \"47\", \"Classes\": [{\"Name\": \"tech\", \"Score\": '\n",
      " '1.0}, {\"Name\": \"sport\", \"Score\": 0.0}, {\"Name\": \"entertainment\", \"Score\": '\n",
      " '0.0}]}\\n',\n",
      " '{\"File\": \"test_s3.csv\", \"Line\": \"48\", \"Classes\": [{\"Name\": \"tech\", \"Score\": '\n",
      " '1.0}, {\"Name\": \"sport\", \"Score\": 0.0}, {\"Name\": \"politics\", \"Score\": '\n",
      " '0.0}]}\\n',\n",
      " '{\"File\": \"test_s3.csv\", \"Line\": \"49\", \"Classes\": [{\"Name\": \"tech\", \"Score\": '\n",
      " '1.0}, {\"Name\": \"entertainment\", \"Score\": 0.0}, {\"Name\": \"politics\", \"Score\": '\n",
      " '0.0}]}\\n']\n"
     ]
    }
   ],
   "source": [
    "pprint(f)"
   ]
  },
  {
   "cell_type": "code",
   "execution_count": 37,
   "metadata": {},
   "outputs": [],
   "source": [
    "# predicted label list\n",
    "predictedLabels = []\n",
    "# looping through json lines\n",
    "for file in f:\n",
    "    # casting str json to json\n",
    "    json_data = json.loads(file)[\"Classes\"]\n",
    "    # fetching class with maximum score\n",
    "    predictedLabels.append(json_data[0]['Name'])"
   ]
  },
  {
   "cell_type": "code",
   "execution_count": 38,
   "metadata": {},
   "outputs": [],
   "source": [
    "# reading test document\n",
    "df_test = pd.read_csv(\"test.csv\", header=None)\n",
    "# assigning header\n",
    "df_test.columns = [\"Document\"]"
   ]
  },
  {
   "cell_type": "code",
   "execution_count": 39,
   "metadata": {},
   "outputs": [],
   "source": [
    "# creating new column and mapping/assigning label\n",
    "df_test[\"PredictedLabel\"] = predictedLabels"
   ]
  },
  {
   "cell_type": "code",
   "execution_count": 40,
   "metadata": {},
   "outputs": [],
   "source": [
    "# readinf test truth file\n",
    "df_truth = pd.read_csv(\"test_truth.csv\", header=None)\n",
    "# assigning header\n",
    "df_truth.columns = [\"TruthLabel\", \"Document\"]"
   ]
  },
  {
   "cell_type": "code",
   "execution_count": 41,
   "metadata": {},
   "outputs": [],
   "source": [
    "# merging both dataframe on Document column\n",
    "mergeDf = pd.merge(df_test, df_truth, on=[\"Document\"], how=\"inner\")"
   ]
  },
  {
   "cell_type": "code",
   "execution_count": 42,
   "metadata": {},
   "outputs": [
    {
     "data": {
      "text/plain": [
       "0     True\n",
       "1     True\n",
       "2     True\n",
       "3     True\n",
       "4     True\n",
       "5     True\n",
       "6     True\n",
       "7     True\n",
       "8     True\n",
       "9     True\n",
       "10    True\n",
       "11    True\n",
       "12    True\n",
       "13    True\n",
       "14    True\n",
       "15    True\n",
       "16    True\n",
       "17    True\n",
       "18    True\n",
       "19    True\n",
       "20    True\n",
       "21    True\n",
       "22    True\n",
       "23    True\n",
       "24    True\n",
       "25    True\n",
       "26    True\n",
       "27    True\n",
       "28    True\n",
       "29    True\n",
       "30    True\n",
       "31    True\n",
       "32    True\n",
       "33    True\n",
       "34    True\n",
       "35    True\n",
       "36    True\n",
       "37    True\n",
       "38    True\n",
       "39    True\n",
       "40    True\n",
       "41    True\n",
       "42    True\n",
       "43    True\n",
       "44    True\n",
       "45    True\n",
       "46    True\n",
       "47    True\n",
       "48    True\n",
       "49    True\n",
       "dtype: bool"
      ]
     },
     "execution_count": 42,
     "metadata": {},
     "output_type": "execute_result"
    }
   ],
   "source": [
    "# checking/comparing two columns\n",
    "mergeDf.PredictedLabel == mergeDf.TruthLabel"
   ]
  },
  {
   "cell_type": "code",
   "execution_count": 43,
   "metadata": {},
   "outputs": [
    {
     "data": {
      "text/plain": [
       "Document          50\n",
       "PredictedLabel    50\n",
       "TruthLabel        50\n",
       "dtype: int64"
      ]
     },
     "execution_count": 43,
     "metadata": {},
     "output_type": "execute_result"
    }
   ],
   "source": [
    "mergeDf[mergeDf.PredictedLabel == mergeDf.TruthLabel].count()\n"
   ]
  },
  {
   "cell_type": "code",
   "execution_count": null,
   "metadata": {},
   "outputs": [],
   "source": []
  }
 ],
 "metadata": {
  "kernelspec": {
   "display_name": "conda_python3",
   "language": "python",
   "name": "conda_python3"
  },
  "language_info": {
   "codemirror_mode": {
    "name": "ipython",
    "version": 3
   },
   "file_extension": ".py",
   "mimetype": "text/x-python",
   "name": "python",
   "nbconvert_exporter": "python",
   "pygments_lexer": "ipython3",
   "version": "3.6.5"
  }
 },
 "nbformat": 4,
 "nbformat_minor": 2
}
